{
 "cells": [
  {
   "cell_type": "code",
   "execution_count": 15,
   "id": "f4ed8a03-7ced-41e1-9d18-1f75f1065c9f",
   "metadata": {},
   "outputs": [],
   "source": [
    "# Program to analyze bank budget\n",
    "# Author: Thomas Bales\n",
    "# Date: 1/1/2022\n",
    "# Version: 1.0\n",
    "\n",
    "# imports\n",
    "from pathlib import Path\n",
    "import pandas as pd\n",
    "# create global variables for analysis\n",
    "\n",
    "total_months = 0\n",
    "total_revenue = 0\n",
    "average_change = 0\n",
    "greatest_increase_in_profits = (' ', 0)\n",
    "greatest_decrease_in_profits = (' ', 0)\n"
   ]
  },
  {
   "cell_type": "code",
   "execution_count": 16,
   "id": "87739f42-9639-4f51-8e0b-b988447b42b1",
   "metadata": {},
   "outputs": [
    {
     "name": "stdout",
     "output_type": "stream",
     "text": [
      "Current working directory is C:\\Users\\rainb\\fintech-homework\\python-homework\\PyBank\n"
     ]
    }
   ],
   "source": [
    "# check working directory\n",
    "print(f\"Current working directory is {Path.cwd()}\")"
   ]
  },
  {
   "cell_type": "code",
   "execution_count": 17,
   "id": "2580327c-6616-46b6-ba51-b42b9dd62577",
   "metadata": {},
   "outputs": [],
   "source": [
    "# assign a path to the budget csv\n",
    "file = Path('./Resources/budget_data.csv')"
   ]
  },
  {
   "cell_type": "code",
   "execution_count": 23,
   "id": "81b2daed-7474-46d2-ba2c-902e4394ca4d",
   "metadata": {},
   "outputs": [
    {
     "name": "stderr",
     "output_type": "stream",
     "text": [
      "C:\\Users\\rainb\\anaconda3\\lib\\site-packages\\IPython\\core\\interactiveshell.py:3444: FutureWarning: In a future version of pandas all arguments of read_csv except for the argument 'filepath_or_buffer' will be keyword-only\n",
      "  exec(code_obj, self.user_global_ns, self.user_ns)\n"
     ]
    }
   ],
   "source": [
    "# assign a panda reader to the data with a comma delimeter\n",
    "budget_data_csv = pd.read_csv(file, ',')"
   ]
  },
  {
   "cell_type": "code",
   "execution_count": 19,
   "id": "cdf238ac-eaba-42e9-847b-3e1d4ed36f30",
   "metadata": {},
   "outputs": [
    {
     "data": {
      "text/html": [
       "<div>\n",
       "<style scoped>\n",
       "    .dataframe tbody tr th:only-of-type {\n",
       "        vertical-align: middle;\n",
       "    }\n",
       "\n",
       "    .dataframe tbody tr th {\n",
       "        vertical-align: top;\n",
       "    }\n",
       "\n",
       "    .dataframe thead th {\n",
       "        text-align: right;\n",
       "    }\n",
       "</style>\n",
       "<table border=\"1\" class=\"dataframe\">\n",
       "  <thead>\n",
       "    <tr style=\"text-align: right;\">\n",
       "      <th></th>\n",
       "      <th>Profit/Losses</th>\n",
       "    </tr>\n",
       "  </thead>\n",
       "  <tbody>\n",
       "    <tr>\n",
       "      <th>count</th>\n",
       "      <td>8.600000e+01</td>\n",
       "    </tr>\n",
       "    <tr>\n",
       "      <th>mean</th>\n",
       "      <td>4.463090e+05</td>\n",
       "    </tr>\n",
       "    <tr>\n",
       "      <th>std</th>\n",
       "      <td>5.363579e+05</td>\n",
       "    </tr>\n",
       "    <tr>\n",
       "      <th>min</th>\n",
       "      <td>-1.196225e+06</td>\n",
       "    </tr>\n",
       "    <tr>\n",
       "      <th>25%</th>\n",
       "      <td>1.821620e+05</td>\n",
       "    </tr>\n",
       "    <tr>\n",
       "      <th>50%</th>\n",
       "      <td>5.703280e+05</td>\n",
       "    </tr>\n",
       "    <tr>\n",
       "      <th>75%</th>\n",
       "      <td>7.952262e+05</td>\n",
       "    </tr>\n",
       "    <tr>\n",
       "      <th>max</th>\n",
       "      <td>1.170593e+06</td>\n",
       "    </tr>\n",
       "  </tbody>\n",
       "</table>\n",
       "</div>"
      ],
      "text/plain": [
       "       Profit/Losses\n",
       "count   8.600000e+01\n",
       "mean    4.463090e+05\n",
       "std     5.363579e+05\n",
       "min    -1.196225e+06\n",
       "25%     1.821620e+05\n",
       "50%     5.703280e+05\n",
       "75%     7.952262e+05\n",
       "max     1.170593e+06"
      ]
     },
     "execution_count": 234,
     "metadata": {},
     "output_type": "execute_result"
    }
   ],
   "source": [
    "# look at the data\n",
    "budget_data_csv.describe()"
   ]
  },
  {
   "cell_type": "code",
   "execution_count": 24,
   "id": "520c462b-ccc3-4b3a-9f9e-affff7052f3a",
   "metadata": {},
   "outputs": [
    {
     "data": {
      "text/html": [
       "<div>\n",
       "<style scoped>\n",
       "    .dataframe tbody tr th:only-of-type {\n",
       "        vertical-align: middle;\n",
       "    }\n",
       "\n",
       "    .dataframe tbody tr th {\n",
       "        vertical-align: top;\n",
       "    }\n",
       "\n",
       "    .dataframe thead th {\n",
       "        text-align: right;\n",
       "    }\n",
       "</style>\n",
       "<table border=\"1\" class=\"dataframe\">\n",
       "  <thead>\n",
       "    <tr style=\"text-align: right;\">\n",
       "      <th></th>\n",
       "      <th>Date</th>\n",
       "      <th>Profit/Losses</th>\n",
       "    </tr>\n",
       "  </thead>\n",
       "  <tbody>\n",
       "    <tr>\n",
       "      <th>0</th>\n",
       "      <td>Jan-2010</td>\n",
       "      <td>867884</td>\n",
       "    </tr>\n",
       "    <tr>\n",
       "      <th>1</th>\n",
       "      <td>Feb-2010</td>\n",
       "      <td>984655</td>\n",
       "    </tr>\n",
       "    <tr>\n",
       "      <th>2</th>\n",
       "      <td>Mar-2010</td>\n",
       "      <td>322013</td>\n",
       "    </tr>\n",
       "    <tr>\n",
       "      <th>3</th>\n",
       "      <td>Apr-2010</td>\n",
       "      <td>-69417</td>\n",
       "    </tr>\n",
       "    <tr>\n",
       "      <th>4</th>\n",
       "      <td>May-2010</td>\n",
       "      <td>310503</td>\n",
       "    </tr>\n",
       "    <tr>\n",
       "      <th>5</th>\n",
       "      <td>Jun-2010</td>\n",
       "      <td>522857</td>\n",
       "    </tr>\n",
       "    <tr>\n",
       "      <th>6</th>\n",
       "      <td>Jul-2010</td>\n",
       "      <td>1033096</td>\n",
       "    </tr>\n",
       "    <tr>\n",
       "      <th>7</th>\n",
       "      <td>Aug-2010</td>\n",
       "      <td>604885</td>\n",
       "    </tr>\n",
       "    <tr>\n",
       "      <th>8</th>\n",
       "      <td>Sep-2010</td>\n",
       "      <td>-216386</td>\n",
       "    </tr>\n",
       "    <tr>\n",
       "      <th>9</th>\n",
       "      <td>Oct-2010</td>\n",
       "      <td>477532</td>\n",
       "    </tr>\n",
       "  </tbody>\n",
       "</table>\n",
       "</div>"
      ],
      "text/plain": [
       "       Date  Profit/Losses\n",
       "0  Jan-2010         867884\n",
       "1  Feb-2010         984655\n",
       "2  Mar-2010         322013\n",
       "3  Apr-2010         -69417\n",
       "4  May-2010         310503\n",
       "5  Jun-2010         522857\n",
       "6  Jul-2010        1033096\n",
       "7  Aug-2010         604885\n",
       "8  Sep-2010        -216386\n",
       "9  Oct-2010         477532"
      ]
     },
     "execution_count": 235,
     "metadata": {},
     "output_type": "execute_result"
    }
   ],
   "source": [
    "# Check the top 10 rows\n",
    "budget_data_csv.head(10)"
   ]
  },
  {
   "cell_type": "code",
   "execution_count": 26,
   "id": "256d837c-af5f-47fe-9130-cfe0e7390e5f",
   "metadata": {},
   "outputs": [],
   "source": [
    "# change the headers to m_date, m_profit_losses\n",
    "budget_data_csv = budget_data_csv.rename(columns={'Date' : 'm_date'})\n",
    "budget_data_csv = budget_data_csv.rename(columns={'Profit/Losses' : 'm_profit_losses'})"
   ]
  },
  {
   "cell_type": "code",
   "execution_count": 27,
   "id": "0a92df96-a09d-49e1-9a7e-c0a87c87ded3",
   "metadata": {},
   "outputs": [
    {
     "data": {
      "text/html": [
       "<div>\n",
       "<style scoped>\n",
       "    .dataframe tbody tr th:only-of-type {\n",
       "        vertical-align: middle;\n",
       "    }\n",
       "\n",
       "    .dataframe tbody tr th {\n",
       "        vertical-align: top;\n",
       "    }\n",
       "\n",
       "    .dataframe thead th {\n",
       "        text-align: right;\n",
       "    }\n",
       "</style>\n",
       "<table border=\"1\" class=\"dataframe\">\n",
       "  <thead>\n",
       "    <tr style=\"text-align: right;\">\n",
       "      <th></th>\n",
       "      <th>m_date</th>\n",
       "      <th>m_profit_losses</th>\n",
       "    </tr>\n",
       "  </thead>\n",
       "  <tbody>\n",
       "    <tr>\n",
       "      <th>0</th>\n",
       "      <td>Jan-2010</td>\n",
       "      <td>867884</td>\n",
       "    </tr>\n",
       "    <tr>\n",
       "      <th>1</th>\n",
       "      <td>Feb-2010</td>\n",
       "      <td>984655</td>\n",
       "    </tr>\n",
       "    <tr>\n",
       "      <th>2</th>\n",
       "      <td>Mar-2010</td>\n",
       "      <td>322013</td>\n",
       "    </tr>\n",
       "    <tr>\n",
       "      <th>3</th>\n",
       "      <td>Apr-2010</td>\n",
       "      <td>-69417</td>\n",
       "    </tr>\n",
       "    <tr>\n",
       "      <th>4</th>\n",
       "      <td>May-2010</td>\n",
       "      <td>310503</td>\n",
       "    </tr>\n",
       "    <tr>\n",
       "      <th>5</th>\n",
       "      <td>Jun-2010</td>\n",
       "      <td>522857</td>\n",
       "    </tr>\n",
       "    <tr>\n",
       "      <th>6</th>\n",
       "      <td>Jul-2010</td>\n",
       "      <td>1033096</td>\n",
       "    </tr>\n",
       "    <tr>\n",
       "      <th>7</th>\n",
       "      <td>Aug-2010</td>\n",
       "      <td>604885</td>\n",
       "    </tr>\n",
       "    <tr>\n",
       "      <th>8</th>\n",
       "      <td>Sep-2010</td>\n",
       "      <td>-216386</td>\n",
       "    </tr>\n",
       "    <tr>\n",
       "      <th>9</th>\n",
       "      <td>Oct-2010</td>\n",
       "      <td>477532</td>\n",
       "    </tr>\n",
       "  </tbody>\n",
       "</table>\n",
       "</div>"
      ],
      "text/plain": [
       "     m_date  m_profit_losses\n",
       "0  Jan-2010           867884\n",
       "1  Feb-2010           984655\n",
       "2  Mar-2010           322013\n",
       "3  Apr-2010           -69417\n",
       "4  May-2010           310503\n",
       "5  Jun-2010           522857\n",
       "6  Jul-2010          1033096\n",
       "7  Aug-2010           604885\n",
       "8  Sep-2010          -216386\n",
       "9  Oct-2010           477532"
      ]
     },
     "execution_count": 237,
     "metadata": {},
     "output_type": "execute_result"
    }
   ],
   "source": [
    "# check header names\n",
    "budget_data_csv.head(10)"
   ]
  },
  {
   "cell_type": "code",
   "execution_count": 28,
   "id": "333c77fd-0935-4eea-8729-d7d3ee989e33",
   "metadata": {},
   "outputs": [],
   "source": [
    "# add headers percent_change, value_change for analysis and initialize\n",
    "budget_data_csv[\"percent_change\"] = 0\n",
    "budget_data_csv[\"value_change\"] = 0"
   ]
  },
  {
   "cell_type": "code",
   "execution_count": 30,
   "id": "d82e63a2-82fb-4882-944f-e63dc072308b",
   "metadata": {},
   "outputs": [
    {
     "data": {
      "text/html": [
       "<div>\n",
       "<style scoped>\n",
       "    .dataframe tbody tr th:only-of-type {\n",
       "        vertical-align: middle;\n",
       "    }\n",
       "\n",
       "    .dataframe tbody tr th {\n",
       "        vertical-align: top;\n",
       "    }\n",
       "\n",
       "    .dataframe thead th {\n",
       "        text-align: right;\n",
       "    }\n",
       "</style>\n",
       "<table border=\"1\" class=\"dataframe\">\n",
       "  <thead>\n",
       "    <tr style=\"text-align: right;\">\n",
       "      <th></th>\n",
       "      <th>m_date</th>\n",
       "      <th>m_profit_losses</th>\n",
       "      <th>percent_change</th>\n",
       "      <th>value_change</th>\n",
       "    </tr>\n",
       "  </thead>\n",
       "  <tbody>\n",
       "    <tr>\n",
       "      <th>76</th>\n",
       "      <td>May-2016</td>\n",
       "      <td>445709</td>\n",
       "      <td>0</td>\n",
       "      <td>0</td>\n",
       "    </tr>\n",
       "    <tr>\n",
       "      <th>77</th>\n",
       "      <td>Jun-2016</td>\n",
       "      <td>712961</td>\n",
       "      <td>0</td>\n",
       "      <td>0</td>\n",
       "    </tr>\n",
       "    <tr>\n",
       "      <th>78</th>\n",
       "      <td>Jul-2016</td>\n",
       "      <td>-1163797</td>\n",
       "      <td>0</td>\n",
       "      <td>0</td>\n",
       "    </tr>\n",
       "    <tr>\n",
       "      <th>79</th>\n",
       "      <td>Aug-2016</td>\n",
       "      <td>569899</td>\n",
       "      <td>0</td>\n",
       "      <td>0</td>\n",
       "    </tr>\n",
       "    <tr>\n",
       "      <th>80</th>\n",
       "      <td>Sep-2016</td>\n",
       "      <td>768450</td>\n",
       "      <td>0</td>\n",
       "      <td>0</td>\n",
       "    </tr>\n",
       "    <tr>\n",
       "      <th>81</th>\n",
       "      <td>Oct-2016</td>\n",
       "      <td>102685</td>\n",
       "      <td>0</td>\n",
       "      <td>0</td>\n",
       "    </tr>\n",
       "    <tr>\n",
       "      <th>82</th>\n",
       "      <td>Nov-2016</td>\n",
       "      <td>795914</td>\n",
       "      <td>0</td>\n",
       "      <td>0</td>\n",
       "    </tr>\n",
       "    <tr>\n",
       "      <th>83</th>\n",
       "      <td>Dec-2016</td>\n",
       "      <td>60988</td>\n",
       "      <td>0</td>\n",
       "      <td>0</td>\n",
       "    </tr>\n",
       "    <tr>\n",
       "      <th>84</th>\n",
       "      <td>Jan-2017</td>\n",
       "      <td>138230</td>\n",
       "      <td>0</td>\n",
       "      <td>0</td>\n",
       "    </tr>\n",
       "    <tr>\n",
       "      <th>85</th>\n",
       "      <td>Feb-2017</td>\n",
       "      <td>671099</td>\n",
       "      <td>0</td>\n",
       "      <td>0</td>\n",
       "    </tr>\n",
       "  </tbody>\n",
       "</table>\n",
       "</div>"
      ],
      "text/plain": [
       "      m_date  m_profit_losses  percent_change  value_change\n",
       "76  May-2016           445709               0             0\n",
       "77  Jun-2016           712961               0             0\n",
       "78  Jul-2016         -1163797               0             0\n",
       "79  Aug-2016           569899               0             0\n",
       "80  Sep-2016           768450               0             0\n",
       "81  Oct-2016           102685               0             0\n",
       "82  Nov-2016           795914               0             0\n",
       "83  Dec-2016            60988               0             0\n",
       "84  Jan-2017           138230               0             0\n",
       "85  Feb-2017           671099               0             0"
      ]
     },
     "execution_count": 30,
     "metadata": {},
     "output_type": "execute_result"
    }
   ],
   "source": [
    "# check data changes\n",
    "budget_data_csv.tail(10)"
   ]
  },
  {
   "cell_type": "code",
   "execution_count": 33,
   "id": "63a034c4-4bc9-4dda-9f26-f1a028b116d0",
   "metadata": {},
   "outputs": [],
   "source": [
    "# calculate percent change by using an iterator\n",
    "# idx = index of itteration\n",
    "count = 0\n",
    "for idx, row in budget_data_csv.iterrows():\n",
    "    if count == 0:\n",
    "        budget_data_csv.at[idx, 'percent_change'] = 0\n",
    "    else:\n",
    "        old_value = budget_data_csv['m_profit_losses'].iloc[(idx - 1)]\n",
    "        new_value = budget_data_csv['m_profit_losses'].iloc[idx]\n",
    "        # get the delta\n",
    "        delta = new_value - old_value\n",
    "        # assign the delta to value_change\n",
    "        budget_data_csv.at[idx, 'value_change'] = delta\n",
    "        # assign the percent change to 'percent_change'\n",
    "        budget_data_csv.at[idx, 'percent_change'] = (new_value - old_value) / old_value * 100\n",
    "    count += 1\n",
    "                           \n",
    "                                    "
   ]
  },
  {
   "cell_type": "code",
   "execution_count": 42,
   "id": "9bc89f80-3732-4e52-b5a1-36bfa6d514b0",
   "metadata": {},
   "outputs": [
    {
     "data": {
      "text/html": [
       "<div>\n",
       "<style scoped>\n",
       "    .dataframe tbody tr th:only-of-type {\n",
       "        vertical-align: middle;\n",
       "    }\n",
       "\n",
       "    .dataframe tbody tr th {\n",
       "        vertical-align: top;\n",
       "    }\n",
       "\n",
       "    .dataframe thead th {\n",
       "        text-align: right;\n",
       "    }\n",
       "</style>\n",
       "<table border=\"1\" class=\"dataframe\">\n",
       "  <thead>\n",
       "    <tr style=\"text-align: right;\">\n",
       "      <th></th>\n",
       "      <th>m_date</th>\n",
       "      <th>m_profit_losses</th>\n",
       "      <th>percent_change</th>\n",
       "      <th>value_change</th>\n",
       "    </tr>\n",
       "  </thead>\n",
       "  <tbody>\n",
       "    <tr>\n",
       "      <th>0</th>\n",
       "      <td>Jan-2010</td>\n",
       "      <td>867884</td>\n",
       "      <td>0</td>\n",
       "      <td>0</td>\n",
       "    </tr>\n",
       "    <tr>\n",
       "      <th>1</th>\n",
       "      <td>Feb-2010</td>\n",
       "      <td>984655</td>\n",
       "      <td>13</td>\n",
       "      <td>116771</td>\n",
       "    </tr>\n",
       "    <tr>\n",
       "      <th>2</th>\n",
       "      <td>Mar-2010</td>\n",
       "      <td>322013</td>\n",
       "      <td>-67</td>\n",
       "      <td>-662642</td>\n",
       "    </tr>\n",
       "    <tr>\n",
       "      <th>3</th>\n",
       "      <td>Apr-2010</td>\n",
       "      <td>-69417</td>\n",
       "      <td>-121</td>\n",
       "      <td>-391430</td>\n",
       "    </tr>\n",
       "    <tr>\n",
       "      <th>4</th>\n",
       "      <td>May-2010</td>\n",
       "      <td>310503</td>\n",
       "      <td>-547</td>\n",
       "      <td>379920</td>\n",
       "    </tr>\n",
       "  </tbody>\n",
       "</table>\n",
       "</div>"
      ],
      "text/plain": [
       "     m_date  m_profit_losses  percent_change  value_change\n",
       "0  Jan-2010           867884               0             0\n",
       "1  Feb-2010           984655              13        116771\n",
       "2  Mar-2010           322013             -67       -662642\n",
       "3  Apr-2010           -69417            -121       -391430\n",
       "4  May-2010           310503            -547        379920"
      ]
     },
     "execution_count": 42,
     "metadata": {},
     "output_type": "execute_result"
    }
   ],
   "source": [
    "# check the head\n",
    "budget_data_csv.head()"
   ]
  },
  {
   "cell_type": "code",
   "execution_count": 105,
   "id": "8c37f72f-2653-46f6-89ff-6231ecf33b4b",
   "metadata": {},
   "outputs": [],
   "source": [
    "# Get the total number of months included in the dataset\n",
    "total_months = budget_data_csv.count()\n",
    "# Check to see if non nulls match shape of frame\n",
    "total_int_months = budget_data_csv.shape[0]"
   ]
  },
  {
   "cell_type": "code",
   "execution_count": 107,
   "id": "54ff8ac4-6418-47f9-8b5d-a181db28b925",
   "metadata": {},
   "outputs": [
    {
     "name": "stdout",
     "output_type": "stream",
     "text": [
      "Total months m_date             86\n",
      "m_profit_losses    86\n",
      "percent_change     86\n",
      "value_change       86\n",
      "dtype: int64\n",
      "Total months - shape 86\n",
      "<class 'int'>\n"
     ]
    }
   ],
   "source": [
    "print(f\"Total months {total_months}\")\n",
    "print(f\"Total months - shape {total_int_months}\")\n",
    "print(type(total_int_months))"
   ]
  },
  {
   "cell_type": "code",
   "execution_count": 104,
   "id": "eae892ff-1f04-48de-8ebb-d6e6c11c69f1",
   "metadata": {},
   "outputs": [],
   "source": [
    "# Get the net total amount of Profit/Losses over the entire period.\n",
    "total = 0\n",
    "for idx, row in budget_data_csv.iterrows():\n",
    "    x = int(budget_data_csv['m_profit_losses'].iloc[idx])\n",
    "    total = total + x\n",
    "  \n",
    "\n",
    "  "
   ]
  },
  {
   "cell_type": "code",
   "execution_count": 77,
   "id": "f560ca8d-8a2f-4c12-9635-1dcd5c73c2e4",
   "metadata": {},
   "outputs": [
    {
     "name": "stdout",
     "output_type": "stream",
     "text": [
      "38382578\n"
     ]
    }
   ],
   "source": [
    "print(total)"
   ]
  },
  {
   "cell_type": "code",
   "execution_count": null,
   "id": "dbc88593-2052-46bd-b503-9e819fd5f8aa",
   "metadata": {},
   "outputs": [],
   "source": [
    "# Get the average of the changes in Profit/Losses over the entire period."
   ]
  },
  {
   "cell_type": "code",
   "execution_count": 96,
   "id": "bb5c7b12-59bd-4404-9402-64f334dd09e5",
   "metadata": {},
   "outputs": [],
   "source": [
    "total_change = 0\n",
    "m_count = 0\n",
    "for idx, row in budget_data_csv.iterrows():\n",
    "    if idx > 0 :\n",
    "        x = int(budget_data_csv['value_change'].iloc[idx]) \n",
    "        total_change = total_change + x\n",
    "        "
   ]
  },
  {
   "cell_type": "code",
   "execution_count": 92,
   "id": "d0c07d2f-e891-4964-9a0e-abb4a5637c5f",
   "metadata": {},
   "outputs": [
    {
     "name": "stdout",
     "output_type": "stream",
     "text": [
      "-196785\n"
     ]
    }
   ],
   "source": [
    "# Test\n",
    "print(total_change)"
   ]
  },
  {
   "cell_type": "code",
   "execution_count": 133,
   "id": "26aee083-5323-40c9-99c3-12d2b5777e03",
   "metadata": {},
   "outputs": [
    {
     "name": "stdout",
     "output_type": "stream",
     "text": [
      "-2315.1176470588234\n"
     ]
    }
   ],
   "source": [
    "# divide by number of months\n",
    "average_change = total_change / (total_int_months - 1) # excludes one month of no change\n",
    "print(average_change)"
   ]
  },
  {
   "cell_type": "code",
   "execution_count": 145,
   "id": "9d31105c-22e3-46cb-a95a-cd951490f4fa",
   "metadata": {},
   "outputs": [],
   "source": [
    "# check using a filters for the largest value\n",
    "top_1 = budget_data_csv['value_change'].nlargest(1)\n",
    "# get the date and amount\n"
   ]
  },
  {
   "cell_type": "code",
   "execution_count": 146,
   "id": "e9b59800-4fd4-4400-ab23-07c461b78273",
   "metadata": {},
   "outputs": [
    {
     "name": "stdout",
     "output_type": "stream",
     "text": [
      "25    1926159\n",
      "Name: value_change, dtype: int64\n"
     ]
    }
   ],
   "source": [
    "print(top_1)\n"
   ]
  },
  {
   "cell_type": "code",
   "execution_count": 179,
   "id": "734c934e-d30b-4497-8d28-2c51c6e3f35f",
   "metadata": {
    "jupyter": {
     "source_hidden": true
    },
    "tags": []
   },
   "outputs": [
    {
     "data": {
      "text/html": [
       "<div>\n",
       "<style scoped>\n",
       "    .dataframe tbody tr th:only-of-type {\n",
       "        vertical-align: middle;\n",
       "    }\n",
       "\n",
       "    .dataframe tbody tr th {\n",
       "        vertical-align: top;\n",
       "    }\n",
       "\n",
       "    .dataframe thead th {\n",
       "        text-align: right;\n",
       "    }\n",
       "</style>\n",
       "<table border=\"1\" class=\"dataframe\">\n",
       "  <thead>\n",
       "    <tr style=\"text-align: right;\">\n",
       "      <th></th>\n",
       "      <th>m_date</th>\n",
       "      <th>m_profit_losses</th>\n",
       "      <th>percent_change</th>\n",
       "      <th>value_change</th>\n",
       "    </tr>\n",
       "  </thead>\n",
       "  <tbody>\n",
       "    <tr>\n",
       "      <th>25</th>\n",
       "      <td>Feb-2012</td>\n",
       "      <td>1170593</td>\n",
       "      <td>-254</td>\n",
       "      <td>1926159</td>\n",
       "    </tr>\n",
       "  </tbody>\n",
       "</table>\n",
       "</div>"
      ],
      "text/plain": [
       "      m_date  m_profit_losses  percent_change  value_change\n",
       "25  Feb-2012          1170593            -254       1926159"
      ]
     },
     "execution_count": 179,
     "metadata": {},
     "output_type": "execute_result"
    }
   ],
   "source": [
    "# get row 25 in a filter to preserve row data\n",
    "df_top = budget_data_csv.filter(items = [25], axis = 0)\n",
    "# check\n",
    "df_top.head()"
   ]
  },
  {
   "cell_type": "code",
   "execution_count": null,
   "id": "2fd3f4c9-d4ba-4760-a223-5d8c8995a1f2",
   "metadata": {},
   "outputs": [],
   "source": [
    "# pull the values from the dataframe\n",
    "greatest_increase_profit_month = df_top.astype(str).tail(1).reset_index().loc[0, 'm_date']\n",
    "greatest_increase_profit_value = int(df_top['value_change'])"
   ]
  },
  {
   "cell_type": "code",
   "execution_count": null,
   "id": "18c7b9e7-551e-42ae-9b21-ad54263a3d88",
   "metadata": {},
   "outputs": [],
   "source": [
    "# check using filters for the smallest value\n",
    "bottom_1 = budget_data_csv['value_change'].nsmallest(1)"
   ]
  },
  {
   "cell_type": "code",
   "execution_count": 124,
   "id": "c338bacd-51df-43cb-bf38-90b3512ec708",
   "metadata": {},
   "outputs": [
    {
     "name": "stdout",
     "output_type": "stream",
     "text": [
      "44   -2196167\n",
      "Name: value_change, dtype: int64\n"
     ]
    }
   ],
   "source": [
    "print(bottom_1)"
   ]
  },
  {
   "cell_type": "code",
   "execution_count": 151,
   "id": "beeb4591-e16c-425b-8d57-6ac14f774f49",
   "metadata": {},
   "outputs": [],
   "source": [
    "# Get row 44 in a foilter to preserve row data\n",
    "df_bottom = budget_data_csv.filter(items = [44], axis = 0 )"
   ]
  },
  {
   "cell_type": "code",
   "execution_count": null,
   "id": "2938bfbd-f309-492d-849d-5ac93fb913e2",
   "metadata": {},
   "outputs": [],
   "source": [
    "df_bottom.head()"
   ]
  },
  {
   "cell_type": "code",
   "execution_count": 190,
   "id": "69d40204-2a08-4fc9-bc2d-5f4de0de2e46",
   "metadata": {},
   "outputs": [],
   "source": [
    "greatest_decrease_month = df_bottom.astype(str).head(1).reset_index().loc[0, 'm_date']\n",
    "greatest_decrease_profit_value = int(df_bottom['value_change'])"
   ]
  },
  {
   "cell_type": "code",
   "execution_count": 193,
   "id": "4db22d08-9d66-47fc-a8e5-e0d2bd1ce44a",
   "metadata": {},
   "outputs": [
    {
     "name": "stdout",
     "output_type": "stream",
     "text": [
      "Sep-2013\n",
      "-2196167\n"
     ]
    }
   ],
   "source": [
    "print(greatest_decrease_month)\n",
    "print(greatest_decrease_profit_value)"
   ]
  },
  {
   "cell_type": "code",
   "execution_count": 211,
   "id": "d226e0e5-f419-4916-b6d6-177c34b102b8",
   "metadata": {},
   "outputs": [
    {
     "name": "stdout",
     "output_type": "stream",
     "text": [
      "Financial Analysis\n",
      "---------------------------------\n",
      "Total Months: 86\n",
      "Total: $38382578\n",
      "Average Change: $-2315.12\n",
      "Greatest Increase in Profits Feb-2012  ($1926159)\n",
      "Greatest Decrease in Profits Sep-2013 ($-2196167)\n"
     ]
    }
   ],
   "source": [
    "# print the data\n",
    "print(\"Financial Analysis\")\n",
    "print(\"---------------------------------\")\n",
    "print(f\"Total Months: {total_int_months}\")\n",
    "print(f\"Total: ${total}\")\n",
    "print(f\"Average Change: ${round(average_change, 2)}\")\n",
    "print(f\"Greatest Increase in Profits {greatest_increase_profit_month}  (${C})\")\n",
    "print(f\"Greatest Decrease in Profits {greatest_decrease_month} (${greatest_decrease_profit_value})\")"
   ]
  },
  {
   "cell_type": "code",
   "execution_count": 239,
   "id": "4edc38c6-b79a-4d98-85d9-518b0a0f5270",
   "metadata": {},
   "outputs": [],
   "source": [
    "# create a string for the output file\n",
    "my_fintech = \"\"\n"
   ]
  },
  {
   "cell_type": "code",
   "execution_count": 240,
   "id": "698215f6-5349-4dd5-9bac-afb0e4684791",
   "metadata": {},
   "outputs": [],
   "source": [
    "my_fintech =  \"Financial Analysis\" + \"\\n\" + \"-----------------------------\\n\" + \"Total Months: \" + str(total_int_months) + \"\\n\" \n",
    "my_fintech += \"Total : $\" + str(total) + \"\\n\"\n",
    "my_fintech += \"Average Change: $\" + str(round(average_change, 2)) + \"\\n\"\n",
    "my_fintech += \"Greatest Increase in Profits \" + str(greatest_increase_profit_month) + \" ($\" +  str(greatest_increase_profit_value) + \")\" + \"\\n\"\n",
    "my_fintech += \"Greatest Decrease in Profits \" + str(greatest_decrease_month) + \" ($\" +  str(greatest_decrease_profit_value) + \")\" + \"\\n\""
   ]
  },
  {
   "cell_type": "code",
   "execution_count": 241,
   "id": "297cd421-42cd-4e8f-951e-9d22c3bb8d8a",
   "metadata": {},
   "outputs": [
    {
     "name": "stdout",
     "output_type": "stream",
     "text": [
      "Financial Analysis\n",
      "-----------------------------\n",
      "Total Months: 86\n",
      "Total : $38382578\n",
      "Average Change: $0\n",
      "Greatest Increase in Profits Feb-2012 ($1926159)\n",
      "Greatest Decrease in Profits Sep-2013 ($-2196167)\n",
      "\n"
     ]
    }
   ],
   "source": [
    "# Testing the print string\n",
    "print(my_fintech)"
   ]
  },
  {
   "cell_type": "code",
   "execution_count": 242,
   "id": "bab628df-02d8-494c-bae8-2fca34e8f033",
   "metadata": {},
   "outputs": [],
   "source": [
    "# create a new path for the ouput file\n",
    "output_file = Path('./Resources/fintech_output.txt')"
   ]
  },
  {
   "cell_type": "code",
   "execution_count": 243,
   "id": "9486f127-a62c-44cb-ba9c-7b6f305c9ae3",
   "metadata": {},
   "outputs": [],
   "source": [
    "# write the file\n",
    "with open(output_file, 'w') as f:\n",
    "    f.write(my_fintech)"
   ]
  },
  {
   "cell_type": "code",
   "execution_count": null,
   "id": "b987cbe2-e97d-4df7-ac4f-6336b8b3ce67",
   "metadata": {},
   "outputs": [],
   "source": [
    "# All done!!!"
   ]
  }
 ],
 "metadata": {
  "kernelspec": {
   "display_name": "Python 3 (ipykernel)",
   "language": "python",
   "name": "python3"
  },
  "language_info": {
   "codemirror_mode": {
    "name": "ipython",
    "version": 3
   },
   "file_extension": ".py",
   "mimetype": "text/x-python",
   "name": "python",
   "nbconvert_exporter": "python",
   "pygments_lexer": "ipython3",
   "version": "3.8.8"
  }
 },
 "nbformat": 4,
 "nbformat_minor": 5
}
